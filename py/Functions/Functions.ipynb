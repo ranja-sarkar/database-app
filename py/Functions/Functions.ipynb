{
 "cells": [
  {
   "cell_type": "markdown",
   "metadata": {},
   "source": [
    "### Defining a Function"
   ]
  },
  {
   "cell_type": "code",
   "execution_count": null,
   "metadata": {},
   "outputs": [],
   "source": [
    "def add(x,y):\n",
    "    return x+y\n",
    "\n",
    "print (add(1,3))"
   ]
  },
  {
   "cell_type": "markdown",
   "metadata": {},
   "source": [
    "### Functions with default arguments\n",
    "Default values must be assigned from right to left."
   ]
  },
  {
   "cell_type": "code",
   "execution_count": null,
   "metadata": {},
   "outputs": [],
   "source": [
    "def circle_area(radius,pi=3.14285):\n",
    "    return pi * radius * radius\n",
    "\n",
    "print(circle_area(78,3.14))\n",
    "\n",
    "print(circle_area(90))"
   ]
  },
  {
   "cell_type": "markdown",
   "metadata": {},
   "source": [
    "### Keyword - arguments"
   ]
  },
  {
   "cell_type": "code",
   "execution_count": null,
   "metadata": {},
   "outputs": [],
   "source": [
    "def wish(name,age):\n",
    "    print(\"Hi {}! you are {} years old\".format(name,age))\n",
    "\n",
    "wish(\"Trump\",71)\n",
    "wish(71,\"Trump\")\n",
    "\n",
    "wish(age=17,name=\"Trump\") #order of arguments does not matter"
   ]
  },
  {
   "cell_type": "markdown",
   "metadata": {},
   "source": [
    "### Function that returns multiple values"
   ]
  },
  {
   "cell_type": "code",
   "execution_count": null,
   "metadata": {},
   "outputs": [],
   "source": [
    "def sumdiff(a,b):\n",
    "    return a+b,abs(a-b)\n",
    "print (type(sumdiff(4,9)))\n",
    "mysum, mydiff = sumdiff(4,9)\n",
    "print (mysum, mydiff)"
   ]
  },
  {
   "cell_type": "markdown",
   "metadata": {},
   "source": [
    "### Variables Scope"
   ]
  },
  {
   "cell_type": "code",
   "execution_count": null,
   "metadata": {},
   "outputs": [],
   "source": [
    "global_a = 25\n",
    "def abc():\n",
    "    local_a = 45\n",
    "    print(global_a)\n",
    "    print(local_a)\n",
    "abc()\n",
    "print(local_a)                  #throws error"
   ]
  },
  {
   "cell_type": "markdown",
   "metadata": {},
   "source": [
    "### Variable length Arguments"
   ]
  },
  {
   "cell_type": "code",
   "execution_count": null,
   "metadata": {},
   "outputs": [],
   "source": [
    "def add(*args):\n",
    "    print(type(args))\n",
    "    print(args)\n",
    "    print(sum(args))\n",
    "\n",
    "\n",
    "\n",
    "add(4,5)\n",
    "add(4,5,78,9)\n",
    "add(4,5,78,9,3,5,7,8,9)"
   ]
  },
  {
   "cell_type": "markdown",
   "metadata": {},
   "source": [
    "### Variable length key-word Arguments"
   ]
  },
  {
   "cell_type": "code",
   "execution_count": null,
   "metadata": {},
   "outputs": [],
   "source": [
    "def polygon(**kwds):\n",
    "    print(type(kwds))\n",
    "    print(kwds)\n",
    "\n",
    "polygon(side1=4,side2=7,side3=9)\n",
    "polygon(side1=4,side2=7,side3=9,side4=8)\n",
    "polygon(side1=4,side2=7,side3=9,side4=8,compute=\"area\")"
   ]
  },
  {
   "cell_type": "markdown",
   "metadata": {},
   "source": [
    "### Doc Strings"
   ]
  },
  {
   "cell_type": "code",
   "execution_count": null,
   "metadata": {},
   "outputs": [],
   "source": [
    "def my_function():\n",
    "    \"\"\"Demonstrate docstrings and does nothing really.\"\"\"\n",
    "  \n",
    "    return None\n",
    "\n",
    "help(my_function)"
   ]
  },
  {
   "cell_type": "code",
   "execution_count": null,
   "metadata": {},
   "outputs": [],
   "source": [
    "def my_function(arg1):\n",
    "    \"\"\"\n",
    "    Summary line.\n",
    " \n",
    "    Extended description of function.\n",
    " \n",
    "    Parameters:\n",
    "    arg1 (int): Description of arg1\n",
    " \n",
    "    Returns:\n",
    "    int: Description of return value\n",
    " \n",
    "    \"\"\"\n",
    " \n",
    "    return arg1\n",
    " \n",
    "print (my_function.__doc__)"
   ]
  }
 ],
 "metadata": {
  "kernelspec": {
   "display_name": "Python 3",
   "language": "python",
   "name": "python3"
  },
  "language_info": {
   "codemirror_mode": {
    "name": "ipython",
    "version": 3
   },
   "file_extension": ".py",
   "mimetype": "text/x-python",
   "name": "python",
   "nbconvert_exporter": "python",
   "pygments_lexer": "ipython3",
   "version": "3.6.5"
  }
 },
 "nbformat": 4,
 "nbformat_minor": 2
}
