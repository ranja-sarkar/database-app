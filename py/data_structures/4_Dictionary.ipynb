{
 "cells": [
  {
   "cell_type": "markdown",
   "metadata": {},
   "source": [
    "### Dictionary\n",
    "Dictionary contains elements in form of pairs seperated by a ':'\n",
    "enclosed in curly braces {} as {key1:value1, key2:value2, ..}"
   ]
  },
  {
   "cell_type": "code",
   "execution_count": null,
   "metadata": {
    "scrolled": true
   },
   "outputs": [],
   "source": [
    "\n",
    "d = {'H':'Hydrogen', 'O':'Oxygen'}          #Dictionary syntax\n",
    "print (type(d))\n",
    "print (len(d))\n",
    "d['C'] = 'Carbon'                           #Adding a value with key 'C'\n",
    "print (d)\n",
    "print (len(d))                              #Number of pairs"
   ]
  },
  {
   "cell_type": "code",
   "execution_count": null,
   "metadata": {},
   "outputs": [],
   "source": [
    "del d['H']                                  #Removing key 'H' and it's value\n",
    "print (d)"
   ]
  },
  {
   "cell_type": "code",
   "execution_count": null,
   "metadata": {},
   "outputs": [],
   "source": [
    "print (d.keys())                            #Prints all keys\n",
    "print (d.values())                          #Prints all values\n",
    "print (d.items())                           #Prints all pairs of keys & values"
   ]
  },
  {
   "cell_type": "markdown",
   "metadata": {},
   "source": [
    "###### Looking up a Dict"
   ]
  },
  {
   "cell_type": "code",
   "execution_count": null,
   "metadata": {},
   "outputs": [],
   "source": [
    "print (d['H'])                              #Prints value of key 'H'\n",
    "print (d.get('H'))                          #Another way of above expression"
   ]
  },
  {
   "cell_type": "markdown",
   "metadata": {},
   "source": [
    "#### Example #1\n",
    "\n",
    "Write a program create an empty dictionary capitals.<br>\n",
    "Add key,value to the dictionary\n",
    "When the user enters the key it should display the value, if the key does not exist,\n",
    "should exit the program<br>\n",
    "`Enter the state : MA`<br>\n",
    "`Capital of MA is Boston`<br>\n",
    "`Enter the state : NY`<br>\n",
    "`Capital of KA is Albany`<br>\n",
    "`Enter the state : PP`<br>\n",
    "`Key does not exists`"
   ]
  },
  {
   "cell_type": "code",
   "execution_count": null,
   "metadata": {
    "scrolled": true
   },
   "outputs": [],
   "source": [
    "\n",
    "capitals = {}                       #empty dictionary\n",
    "capitals['MA'] = 'Boston'\n",
    "capitals[\"NY\"] = 'Albany'\n",
    "\n",
    "key = input(\"Enter the state: \")\n",
    "print (\"Capital of {} is {}\".format(key,capitals.get(key)))"
   ]
  },
  {
   "cell_type": "markdown",
   "metadata": {},
   "source": [
    "#### Example #2\n",
    "Write a program to Generate a Dictionary that Contains Numbers (between 1 and n)\n",
    "take value n from the user and print the number and its square<br>\n",
    "`Enter a number:5`<br>\n",
    "`{1: 1, 2: 4, 3: 9, 4: 16, 5: 25}`"
   ]
  },
  {
   "cell_type": "code",
   "execution_count": null,
   "metadata": {
    "scrolled": true
   },
   "outputs": [],
   "source": [
    "\n",
    "dict_square = {}                        #Empty dictionary\n",
    "n = int(input (\"Enter a number: \"))     #prompting user for input\n",
    "for x in range(1,n+1):                  #defining limits\n",
    "    dict_square[x] = x**2               #assigning values to keys\n",
    "print (dict_square)                     #printing the dictionary"
   ]
  }
 ],
 "metadata": {
  "kernelspec": {
   "display_name": "Python 3",
   "language": "python",
   "name": "python3"
  },
  "language_info": {
   "codemirror_mode": {
    "name": "ipython",
    "version": 3
   },
   "file_extension": ".py",
   "mimetype": "text/x-python",
   "name": "python",
   "nbconvert_exporter": "python",
   "pygments_lexer": "ipython3",
   "version": "3.6.5"
  }
 },
 "nbformat": 4,
 "nbformat_minor": 2
}
