{
 "cells": [
  {
   "cell_type": "markdown",
   "metadata": {},
   "source": [
    "### Lists"
   ]
  },
  {
   "cell_type": "code",
   "execution_count": null,
   "metadata": {},
   "outputs": [],
   "source": [
    "a = [2,4,7,3,8,0,5]                 #Creating a list\n",
    "print ( type(a) )                   #Prints datatype of 'a'\n",
    "print (a[0])                        #Prints element in index 0\n",
    "print (a[-1])                       #Prints element in index -1 (last one)"
   ]
  },
  {
   "cell_type": "markdown",
   "metadata": {},
   "source": [
    "### List Operations"
   ]
  },
  {
   "cell_type": "code",
   "execution_count": null,
   "metadata": {},
   "outputs": [],
   "source": [
    "print (len(a))                      #Prints length of the list (No. of elements)\n",
    "print (sum(a))                      #Prints sum of all elements\n",
    "print (min(a))                      #Prints the minimum (least) element\n",
    "print (max(a))                      #Prints the maximum (highest) element\n",
    "print (a[2:5])                      #Prints elements from index 2 till index 5\n",
    "print (a[::2])                      #Prints every second element in the list from start to end\n",
    "print (a[-4:-1])                    #Prints elements from index -4 till index -1"
   ]
  },
  {
   "cell_type": "markdown",
   "metadata": {},
   "source": [
    "### Appending, Inserting & Extending"
   ]
  },
  {
   "cell_type": "code",
   "execution_count": null,
   "metadata": {},
   "outputs": [],
   "source": [
    "a.append(10)                        #Adds an element '10' to the list as last element\n",
    "print (a)\n",
    "a.insert(1,100)                     #Adds an element '100' at index 1\n",
    "print (a.index(0))                  #Prints he element at index 1\n",
    "print (a)\n",
    "print (a.count(4))                  #Prints the count of element 4 present in the list\n",
    "a.extend([7,8,9])                   #Adds elements 7,8,9 to the list\n",
    "print (a)"
   ]
  },
  {
   "cell_type": "markdown",
   "metadata": {},
   "source": [
    "### Sorting"
   ]
  },
  {
   "cell_type": "code",
   "execution_count": null,
   "metadata": {},
   "outputs": [],
   "source": [
    "a.sort()                            #Sorts the list in Ascending order\n",
    "print (a)\n",
    "a.reverse()                         #Reverses the order of the list\n",
    "print (a)"
   ]
  },
  {
   "cell_type": "markdown",
   "metadata": {},
   "source": [
    "### Removing & Extending"
   ]
  },
  {
   "cell_type": "code",
   "execution_count": null,
   "metadata": {},
   "outputs": [],
   "source": [
    "print (a)\n",
    "a.remove(7)                         #Removes element '7'\n",
    "print (a)\n",
    "c = a.pop()                         #Removes every element in the list\n",
    "print (c)                           #Returns zero\n",
    "print (a)"
   ]
  },
  {
   "cell_type": "markdown",
   "metadata": {},
   "source": [
    "### Strings List"
   ]
  },
  {
   "cell_type": "code",
   "execution_count": null,
   "metadata": {},
   "outputs": [],
   "source": [
    "strlist = [\"rajesh\", 'ramesh', 'raghav', 'raman', 'ravi', 'ali', 'sara']\n",
    "print (strlist)                             #String list\n",
    "strlist.sort()                              #Sorts the list in Alphabetical\n",
    "print (strlist)\n",
    "print (strlist[-4:])                        #Prints the last four elements"
   ]
  },
  {
   "cell_type": "markdown",
   "metadata": {},
   "source": [
    "### Numbers List"
   ]
  },
  {
   "cell_type": "code",
   "execution_count": null,
   "metadata": {},
   "outputs": [],
   "source": [
    "numlist = [1, 2.0, 3.16, 5.67, 8, 10]       #Numbers list\n",
    "print (numlist)\n",
    "numlist.remove(min(numlist))                #Removing the least element in list\n",
    "print (numlist)\n",
    "print (9 in numlist)                        #Returns a boolean value for the\n",
    "                                            #condition"
   ]
  },
  {
   "cell_type": "markdown",
   "metadata": {},
   "source": [
    "### Splitting sentence into words"
   ]
  },
  {
   "cell_type": "code",
   "execution_count": null,
   "metadata": {},
   "outputs": [],
   "source": [
    "text = 'The quick brown fox jumps over the lazy dog'\n",
    "a = text.split()                            #breaking the sentence\n",
    "print (a)\n",
    "for element in a:\n",
    "    print (element.upper(),element.lower(),len(element))\n"
   ]
  }
 ],
 "metadata": {
  "kernelspec": {
   "display_name": "Python 3",
   "language": "python",
   "name": "python3"
  },
  "language_info": {
   "codemirror_mode": {
    "name": "ipython",
    "version": 3
   },
   "file_extension": ".py",
   "mimetype": "text/x-python",
   "name": "python",
   "nbconvert_exporter": "python",
   "pygments_lexer": "ipython3",
   "version": "3.6.5"
  }
 },
 "nbformat": 4,
 "nbformat_minor": 2
}
