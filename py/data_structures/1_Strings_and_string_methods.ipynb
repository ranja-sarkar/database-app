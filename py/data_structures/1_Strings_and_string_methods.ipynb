{
 "cells": [
  {
   "cell_type": "markdown",
   "metadata": {},
   "source": [
    "### Working with Strings"
   ]
  },
  {
   "cell_type": "code",
   "execution_count": null,
   "metadata": {},
   "outputs": [],
   "source": [
    "text = \"A quick brown fox jumps over a lazy dog.\"            #Declare a string\n",
    "text1 = 'A quick brown fox jumps over a lazy dog.'           #Alternate way of declaring string\n",
    "text2 = \"\"\"\"A quick brown fox jumps over a lazy dog.\"\"\"      #Used for multi line comments also\n",
    "\n",
    "print (len(text))\n",
    "                                            #Prints length of the given string\n",
    "print (type(text))\n",
    "                                            #Prints the data type of the 'name'"
   ]
  },
  {
   "cell_type": "code",
   "execution_count": null,
   "metadata": {},
   "outputs": [],
   "source": [
    "print (\"The first letter of the given string is \",text[0])\n",
    "                                            #Prints element that's located at index 0 i.e., the first element\n",
    "print (text[-1])                            #Prints element that's located at index -1 i.e., the last element           \n",
    "print (text[0:5])                           #Prints elements from index 0 till index 5\n",
    "print (text[5:10])                          #Prints elements from index 5 till index 10\n",
    "print (text[0:10:2])                        #Prints every second letter from index 0 to index 10\n",
    "print (text[::1])                           #Prints every first letter in a string from beginning to end i.e., the complete string\n",
    "print (text[::-1])                          #Prints every first letter in the string backwards"
   ]
  },
  {
   "cell_type": "code",
   "execution_count": null,
   "metadata": {},
   "outputs": [],
   "source": [
    "print (text.upper())                        #Prints the entire string in uppercase\n",
    "print (text.lower())                        #Prints the entire string in lowercase\n",
    "print (text.capitalize())                   #Prints the first letter in uppercase and remaining all in lowercase\n",
    "print (text.swapcase())                     #Prints the entire string in reversed typecases\n",
    "print (text.title())                        #Prints every starting letter of a word in Capital"
   ]
  },
  {
   "cell_type": "markdown",
   "metadata": {},
   "source": [
    "### To check whether a particular substring exists in a given string"
   ]
  },
  {
   "cell_type": "code",
   "execution_count": null,
   "metadata": {},
   "outputs": [],
   "source": [
    "st = \"A quick brown fox jumps over a lazy dog\"\n",
    "if 'brown' in st :\n",
    "    print( \"'brown' is present in the given String\" )\n",
    "if 'red' not in st :\n",
    "    print( \"'red' is not present in the given String\" )\n",
    "\n",
    "#Counting number of times a string is repeated\n",
    "print( \"Count of 'o' in given String : \", st.count('o') )"
   ]
  },
  {
   "cell_type": "markdown",
   "metadata": {},
   "source": [
    "### Searching in a string"
   ]
  },
  {
   "cell_type": "code",
   "execution_count": null,
   "metadata": {},
   "outputs": [],
   "source": [
    "text = \"Mary had a little lamb\"\n",
    "\n",
    "print (\"lamb\" in text)              #searches for lamb in 'text' and returns boolean\n",
    "\n",
    "print (text.endswith(\"lamb\"))       #returns 'True' if 'text' ends with 'lamb'\n",
    "\n",
    "print (text.startswith(\"lamb\"))     #returns 'True' if 'text' starts with 'lamb'\n",
    "\n",
    "print (text.endswith(\"Mary\"))       #returns 'True' if 'text' ends with 'Mary'\n",
    "\n",
    "print (text.startswith(\"Mary\"))     #returns 'True' if 'text' starts with 'Mary'"
   ]
  },
  {
   "cell_type": "markdown",
   "metadata": {},
   "source": [
    "### Formatting"
   ]
  },
  {
   "cell_type": "code",
   "execution_count": null,
   "metadata": {},
   "outputs": [],
   "source": [
    "text = \"      good morning   \\t\"\n",
    "\n",
    "print ( \"---------->{}<-----------\".format(text))           #placeholder\n",
    "\n",
    "print ( \"---------->{}<-----------\".format(text.lstrip()))  #removes left whitespaces\n",
    "\n",
    "print ( \"---------->{}<-----------\".format(text.rstrip()))  #removes right whitespaces\n",
    "\n",
    "print ( \"---------->{}<-----------\".format(text.strip()))   #removes whitespaces at\n",
    "                                                            #at start and end"
   ]
  },
  {
   "cell_type": "markdown",
   "metadata": {},
   "source": [
    "### String splitting and joining"
   ]
  },
  {
   "cell_type": "code",
   "execution_count": null,
   "metadata": {},
   "outputs": [],
   "source": [
    "text = \"val John, 24601, jeanvaljohn@lesmiserables.com\"\n",
    "\n",
    "print (text.split(\",\"))                     #prints the fields separated by ',' into a list\n",
    "\n",
    "name, eid, email = text.split(\",\")          #assigns fields to respective variables\n",
    "\n",
    "print (name, eid, email)                    #prints respective variables\n",
    "\n",
    "strings = [\"hello\", \"how\", \"are\", \"you\"]    #list named 'strings'\n",
    "\n",
    "print (\".\".join(strings))                   #joins elements with '.'\n",
    "\n",
    "print (\" \".join(strings))                   #joins elements with ' '\n",
    "\n",
    "print (\"\".join(strings))                    #joins elements with null \"\"\n"
   ]
  }
 ],
 "metadata": {
  "kernelspec": {
   "display_name": "Python 3",
   "language": "python",
   "name": "python3"
  },
  "language_info": {
   "codemirror_mode": {
    "name": "ipython",
    "version": 3
   },
   "file_extension": ".py",
   "mimetype": "text/x-python",
   "name": "python",
   "nbconvert_exporter": "python",
   "pygments_lexer": "ipython3",
   "version": "3.6.5"
  }
 },
 "nbformat": 4,
 "nbformat_minor": 2
}
