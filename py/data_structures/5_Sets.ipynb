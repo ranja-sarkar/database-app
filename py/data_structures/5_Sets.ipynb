{
 "cells": [
  {
   "cell_type": "markdown",
   "metadata": {},
   "source": [
    "### Sets"
   ]
  },
  {
   "cell_type": "code",
   "execution_count": null,
   "metadata": {},
   "outputs": [],
   "source": [
    "\"\"\" A set is an unordered list of distinct elements \"\"\"\n",
    "a = (2,4.5,6,7,4,5,6,3,6,7,4,7,7,4,87,8,6)\n",
    "print (a)\n",
    "set1 = set(a)                                   #Converting a list into set\n",
    "print (set1)\n",
    "print (type(set1))                              #Prints datatype of 'aSet'\n",
    "\n",
    "b = (2,4,6,3,5,6,3,56,7,8)\n",
    "print (b)\n",
    "set2 = set(b)\n",
    "print (set2)\n",
    "\n",
    "c = set1 - set2                                 #Deletes common elements and returns remainder"
   ]
  },
  {
   "cell_type": "markdown",
   "metadata": {},
   "source": [
    "### Set Operations"
   ]
  },
  {
   "cell_type": "code",
   "execution_count": null,
   "metadata": {
    "scrolled": true
   },
   "outputs": [],
   "source": [
    "mybuddies = {\"steve\", \"tony\", \"sharon\", \"natalie\"}\n",
    "print (mybuddies)\n",
    "mysisbuddies = {\"sharon\", \"diana\", \"steve\", \"reema\"}\n",
    "print (mysisbuddies)\n",
    "\n",
    "print (mybuddies.union(mysisbuddies))           #Prints all friends' names of me and my sister\n",
    "print (mybuddies.intersection(mysisbuddies))    #Prints friends' names common to us\n",
    "print (mybuddies - mysisbuddies)                #Prints friends' names exclusive to me"
   ]
  }
 ],
 "metadata": {
  "kernelspec": {
   "display_name": "Python 3",
   "language": "python",
   "name": "python3"
  },
  "language_info": {
   "codemirror_mode": {
    "name": "ipython",
    "version": 3
   },
   "file_extension": ".py",
   "mimetype": "text/x-python",
   "name": "python",
   "nbconvert_exporter": "python",
   "pygments_lexer": "ipython3",
   "version": "3.6.5"
  }
 },
 "nbformat": 4,
 "nbformat_minor": 2
}
