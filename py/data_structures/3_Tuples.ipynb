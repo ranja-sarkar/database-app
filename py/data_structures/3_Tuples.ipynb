{
 "cells": [
  {
   "cell_type": "markdown",
   "metadata": {},
   "source": [
    "### Tuples"
   ]
  },
  {
   "cell_type": "code",
   "execution_count": null,
   "metadata": {},
   "outputs": [],
   "source": [
    "a = (2,4,7,3,8,0,5)                 #Tuple declaration\n",
    "\n",
    "#Operations on tuple\n",
    "\n",
    "print ( type(a) )                   #Prints datatype of 'a'\n",
    "print (a[0])                        #Prints element in index 0\n",
    "print (a[-1])                       #Prints element in index -1\n",
    "print (a[2:5])                      #Prints elements from index 2 till index 5\n",
    "print (a[::2])                      #Prints every second element from the start to the end of tuple\n",
    "print (a[-4:-1])                    #Prints elements from index -4 till index -1"
   ]
  },
  {
   "cell_type": "markdown",
   "metadata": {},
   "source": [
    "### Operations on Tuple"
   ]
  },
  {
   "cell_type": "code",
   "execution_count": null,
   "metadata": {},
   "outputs": [],
   "source": [
    "print (len(a))                      #Prints length of the tuple\n",
    "print (sum(a))                      #Prints the sum of elements in tuple\n",
    "print (min(a))                      #Prints the least element in tuple\n",
    "print (max(a))                      #Prints the highest element in tuple"
   ]
  },
  {
   "cell_type": "markdown",
   "metadata": {},
   "source": [
    "### Tuple Methods"
   ]
  },
  {
   "cell_type": "code",
   "execution_count": null,
   "metadata": {},
   "outputs": [],
   "source": [
    "b = 3,5,6,7                         #Alternate declaration of tuple\n",
    "print (type(b))\n",
    "print (b.count(3))                  #Counts number of times '3' present\n",
    "print (b.index(5))                  #Locates the position of '5'\n",
    "print (b[2])                        #Prints the element in index 2"
   ]
  }
 ],
 "metadata": {
  "kernelspec": {
   "display_name": "Python 3",
   "language": "python",
   "name": "python3"
  },
  "language_info": {
   "codemirror_mode": {
    "name": "ipython",
    "version": 3
   },
   "file_extension": ".py",
   "mimetype": "text/x-python",
   "name": "python",
   "nbconvert_exporter": "python",
   "pygments_lexer": "ipython3",
   "version": "3.6.5"
  }
 },
 "nbformat": 4,
 "nbformat_minor": 2
}
