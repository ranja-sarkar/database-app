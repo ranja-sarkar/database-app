{
 "cells": [
  {
   "cell_type": "code",
   "execution_count": 3,
   "metadata": {},
   "outputs": [
    {
     "name": "stdout",
     "output_type": "stream",
     "text": [
      "['3', '20', '50']\n",
      "['3']\n",
      "['50']\n"
     ]
    }
   ],
   "source": [
    "import re\n",
    "#finding\n",
    "\n",
    "#find any number anywhere in the string\n",
    "\n",
    "print(re.findall(\"\\d+\",\"3 pens cost 20 rupees and 50 paise\"))\n",
    "\n",
    "#find any number at the begining of the string\n",
    "print(re.findall(\"^\\d+\",\"3 pens cost 20 rupees and 50 paise\"))\n",
    "\n",
    "#find any number at the end of the string\n",
    "print(re.findall(\"\\d+$\",\"3 pens cost 20 rupees and 50\"))"
   ]
  },
  {
   "cell_type": "code",
   "execution_count": 4,
   "metadata": {},
   "outputs": [
    {
     "name": "stdout",
     "output_type": "stream",
     "text": [
      "['Ramesh', '223', 'rsannareddy@gmail.com', 'male']\n"
     ]
    }
   ],
   "source": [
    "print(re.split(\"[,:-]\",\"Ramesh,223-rsannareddy@gmail.com:male\"))"
   ]
  },
  {
   "cell_type": "code",
   "execution_count": 5,
   "metadata": {},
   "outputs": [
    {
     "name": "stdout",
     "output_type": "stream",
     "text": [
      "My mobile is **********. My atm pin in ****\n",
      "My mobile is *. My atm pin in *\n",
      "My mobile is *. My atm pin in 3487\n"
     ]
    }
   ],
   "source": [
    "text=\"My mobile is 9885970033. My atm pin in 3487\"\n",
    "\n",
    "\n",
    "\n",
    "print( re.sub(r'\\d','*',text))\n",
    "print( re.sub(r'\\d+','*',text))\n",
    "print( re.sub(r'0?[7-9]\\d{9}','*',text))"
   ]
  },
  {
   "cell_type": "code",
   "execution_count": 6,
   "metadata": {},
   "outputs": [
    {
     "name": "stdout",
     "output_type": "stream",
     "text": [
      "9885970033\n",
      "(13, 23)\n"
     ]
    }
   ],
   "source": [
    "text=\"My mobile is 9885970033. My atm pin in 3487\"\n",
    "r=re.search('0?[7-9]\\d{9}',text)\n",
    "print(r.group())\n",
    "print(r.span())"
   ]
  },
  {
   "cell_type": "code",
   "execution_count": 7,
   "metadata": {},
   "outputs": [
    {
     "name": "stdout",
     "output_type": "stream",
     "text": [
      "['13', '9', '20']\n"
     ]
    }
   ],
   "source": [
    "#compiled regex\n",
    "number = re.compile('\\d+')\n",
    "result=number.findall('He has 13 blue pens, 9 balls and 20 rupees')\n",
    "print(result)"
   ]
  },
  {
   "cell_type": "code",
   "execution_count": 8,
   "metadata": {},
   "outputs": [
    {
     "name": "stdout",
     "output_type": "stream",
     "text": [
      "['you']\n",
      "['you']\n",
      "[]\n"
     ]
    }
   ],
   "source": [
    "sometext=[\n",
    "    \"hello how are you\",\n",
    "    \"do you like python\",\n",
    "    \"shell office is in chennai\"\n",
    "]\n",
    "\n",
    "for line in sometext:\n",
    "    print(re.findall(\"you\",line))"
   ]
  },
  {
   "cell_type": "code",
   "execution_count": null,
   "metadata": {},
   "outputs": [],
   "source": [
    "#from zipfile import ZipFile\n",
    "#from glob import glob\n",
    "\n",
    "#glob.glob(\"*.py\") or glob.glob(\"*.ipynb\") or glob.glob(\"*.*\")"
   ]
  }
 ],
 "metadata": {
  "kernelspec": {
   "display_name": "Python 3",
   "language": "python",
   "name": "python3"
  },
  "language_info": {
   "codemirror_mode": {
    "name": "ipython",
    "version": 3
   },
   "file_extension": ".py",
   "mimetype": "text/x-python",
   "name": "python",
   "nbconvert_exporter": "python",
   "pygments_lexer": "ipython3",
   "version": "3.6.8"
  }
 },
 "nbformat": 4,
 "nbformat_minor": 2
}
