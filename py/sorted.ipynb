{
 "cells": [
  {
   "cell_type": "code",
   "execution_count": 1,
   "metadata": {},
   "outputs": [],
   "source": [
    "hs = [\"ooty\",\"coorg\",\"leh\",\"araku\",\"mahabaleshwar\",\"Munnar\"]"
   ]
  },
  {
   "cell_type": "code",
   "execution_count": 2,
   "metadata": {},
   "outputs": [
    {
     "name": "stdout",
     "output_type": "stream",
     "text": [
      "['Munnar', 'araku', 'coorg', 'leh', 'mahabaleshwar', 'ooty']\n"
     ]
    }
   ],
   "source": [
    "print(sorted(hs))"
   ]
  },
  {
   "cell_type": "code",
   "execution_count": 3,
   "metadata": {},
   "outputs": [
    {
     "name": "stdout",
     "output_type": "stream",
     "text": [
      "['ooty', 'mahabaleshwar', 'leh', 'coorg', 'araku', 'Munnar']\n"
     ]
    }
   ],
   "source": [
    "print(sorted(hs,reverse=True))"
   ]
  },
  {
   "cell_type": "code",
   "execution_count": 5,
   "metadata": {},
   "outputs": [
    {
     "name": "stdout",
     "output_type": "stream",
     "text": [
      "['leh', 'ooty', 'coorg', 'araku', 'Munnar', 'mahabaleshwar']\n"
     ]
    }
   ],
   "source": [
    "print(sorted(hs,key=len))"
   ]
  },
  {
   "cell_type": "code",
   "execution_count": 6,
   "metadata": {},
   "outputs": [
    {
     "name": "stdout",
     "output_type": "stream",
     "text": [
      "['araku', 'coorg', 'leh', 'mahabaleshwar', 'Munnar', 'ooty']\n"
     ]
    }
   ],
   "source": [
    "print(sorted(hs,key=lambda x:x.lower()))"
   ]
  },
  {
   "cell_type": "code",
   "execution_count": 7,
   "metadata": {},
   "outputs": [],
   "source": [
    "hs1 = [\n",
    "('ooty',7500),\n",
    "('coorg',5741),\n",
    "('leh',11480),\n",
    "('araku',2990),\n",
    "('mahabaleshwar',4439),\n",
    "('Munnar',5026),\n",
    "]"
   ]
  },
  {
   "cell_type": "code",
   "execution_count": 9,
   "metadata": {},
   "outputs": [
    {
     "name": "stdout",
     "output_type": "stream",
     "text": [
      "[('araku', 2990), ('mahabaleshwar', 4439), ('Munnar', 5026), ('coorg', 5741), ('ooty', 7500), ('leh', 11480)]\n"
     ]
    }
   ],
   "source": [
    "print(sorted(hs1,key=lambda x:x[1]))"
   ]
  },
  {
   "cell_type": "code",
   "execution_count": 10,
   "metadata": {},
   "outputs": [
    {
     "name": "stdout",
     "output_type": "stream",
     "text": [
      "[('Munnar', 5026), ('araku', 2990), ('coorg', 5741), ('leh', 11480), ('mahabaleshwar', 4439), ('ooty', 7500)]\n"
     ]
    }
   ],
   "source": [
    "print(sorted(hs1,key=lambda x:x[0]))"
   ]
  },
  {
   "cell_type": "code",
   "execution_count": 11,
   "metadata": {},
   "outputs": [
    {
     "name": "stdout",
     "output_type": "stream",
     "text": [
      "[('araku', 2990), ('coorg', 5741), ('leh', 11480), ('mahabaleshwar', 4439), ('Munnar', 5026), ('ooty', 7500)]\n"
     ]
    }
   ],
   "source": [
    "print(sorted(hs1,key=lambda x:x[0].lower()))"
   ]
  },
  {
   "cell_type": "code",
   "execution_count": null,
   "metadata": {},
   "outputs": [],
   "source": []
  }
 ],
 "metadata": {
  "kernelspec": {
   "display_name": "Python 3",
   "language": "python",
   "name": "python3"
  },
  "language_info": {
   "codemirror_mode": {
    "name": "ipython",
    "version": 3
   },
   "file_extension": ".py",
   "mimetype": "text/x-python",
   "name": "python",
   "nbconvert_exporter": "python",
   "pygments_lexer": "ipython3",
   "version": "3.5.5"
  }
 },
 "nbformat": 4,
 "nbformat_minor": 2
}
