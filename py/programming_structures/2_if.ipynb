{
 "cells": [
  {
   "cell_type": "markdown",
   "metadata": {},
   "source": [
    "### If"
   ]
  },
  {
   "cell_type": "code",
   "execution_count": null,
   "metadata": {},
   "outputs": [],
   "source": [
    "if 3 > 1:\n",
    "    print (\"True\")                  #Indentation is very important in Python\n",
    "else:\n",
    "    print (\"False\")"
   ]
  },
  {
   "cell_type": "markdown",
   "metadata": {},
   "source": [
    "#### Example #1\n",
    "Write a program to take input from the user for 5 subjects find the average\n",
    "and display the grade\n",
    "Enter marks of the first subject: 85\n",
    "Enter marks of the second subject: 95\n",
    "Enter marks of the third subject: 99\n",
    "Enter marks of the fourth subject: 93\n",
    "Enter marks of the fifth subject: 100\n",
    "If average >=90 - A Grade, >=80&<90 -B Grade, >=70&<80 -Grade C, >=60&<70 - Grade D else Grade E"
   ]
  },
  {
   "cell_type": "code",
   "execution_count": null,
   "metadata": {},
   "outputs": [],
   "source": [
    "marks = []\n",
    "for i in range(1,6):\n",
    "    m = int(input (\"Enter marks of {}th subject: \".format(i)))\n",
    "    while m > 100:\n",
    "        print (\"Marks cannot be greater than 100.\")\n",
    "        m = int(input (\"Enter marks of {}th subject again: \".format(i)))\n",
    "    marks.append(m)\n",
    "average = sum(marks)/len(marks)\n",
    "if average >= 90:\n",
    "    print (\"A Grade\")\n",
    "elif average >= 80 and average <= 90:\n",
    "    print (\"B Grade\")\n",
    "elif average >=70 and average <=80:\n",
    "    print (\"C Grade\")\n",
    "elif average >=60 and average <=70:\n",
    "    print (\"D Grade\")\n",
    "else:\n",
    "    print (\"Faied! Better luck next time.\")"
   ]
  },
  {
   "cell_type": "markdown",
   "metadata": {},
   "source": [
    "#### Example #2\n",
    "Write a program which takes two parameters and returns their difference\n",
    "Ex: (5-2) should return 3\n",
    "(2-5) should return 3\n",
    "Note: Do not use abs() inside your function"
   ]
  },
  {
   "cell_type": "code",
   "execution_count": null,
   "metadata": {},
   "outputs": [],
   "source": [
    "a = int(input (\"Enter a number: \"))             #prompting user for input\n",
    "b = int(input (\"Enter another number: \"))\n",
    "if a > b:\n",
    "    print (\"The difference is \",a-b)            #making sure to return positive value\n",
    "else:\n",
    "    print (\"The difference is \",b-a)            #making sure to return positive value\n",
    "    \n",
    "                                                #Another way"
   ]
  },
  {
   "cell_type": "code",
   "execution_count": null,
   "metadata": {},
   "outputs": [],
   "source": [
    "if a<b:\n",
    "    a,b = b,a                                   #in case of negative values, exchange inputs\n",
    "print (\"The difference is \",a-b)"
   ]
  }
 ],
 "metadata": {
  "kernelspec": {
   "display_name": "Python 3",
   "language": "python",
   "name": "python3"
  },
  "language_info": {
   "codemirror_mode": {
    "name": "ipython",
    "version": 3
   },
   "file_extension": ".py",
   "mimetype": "text/x-python",
   "name": "python",
   "nbconvert_exporter": "python",
   "pygments_lexer": "ipython3",
   "version": "3.6.5"
  }
 },
 "nbformat": 4,
 "nbformat_minor": 2
}
