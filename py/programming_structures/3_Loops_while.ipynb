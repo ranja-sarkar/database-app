{
 "cells": [
  {
   "cell_type": "markdown",
   "metadata": {},
   "source": [
    "### While"
   ]
  },
  {
   "cell_type": "code",
   "execution_count": null,
   "metadata": {},
   "outputs": [],
   "source": [
    "count = 0\n",
    "while count < 11:\n",
    "    print (count)\n",
    "    count+= 1\n",
    "print (\"End of while loop\")"
   ]
  },
  {
   "cell_type": "markdown",
   "metadata": {},
   "source": [
    "#### Example\n",
    "Initialize a variable with number,\n",
    "Write a program to guess (take input from user)\n",
    "the number that has been initialized in the program\n",
    "if the guess number is lower than the number : print guess higher number\n",
    "if the guess number is higher than the number : print guess lower number\n",
    "if the guessed number is correct print \"your guess is right"
   ]
  },
  {
   "cell_type": "code",
   "execution_count": null,
   "metadata": {},
   "outputs": [],
   "source": [
    "import random\n",
    "num = int(input (\"Guess the number: \"))\n",
    "rand_num = random.randint(1,10)\n",
    "while num != rand_num:\n",
    "    if num > rand_num:\n",
    "        print (\"Guess lower number!\")\n",
    "    else:\n",
    "        print (\"Guess higher number\")\n",
    "    num = int(input (\"Guess the number: \"))\n",
    "print (\"Yaay! Your guess is right!\")    "
   ]
  }
 ],
 "metadata": {
  "kernelspec": {
   "display_name": "Python 3",
   "language": "python",
   "name": "python3"
  },
  "language_info": {
   "codemirror_mode": {
    "name": "ipython",
    "version": 3
   },
   "file_extension": ".py",
   "mimetype": "text/x-python",
   "name": "python",
   "nbconvert_exporter": "python",
   "pygments_lexer": "ipython3",
   "version": "3.6.5"
  }
 },
 "nbformat": 4,
 "nbformat_minor": 2
}
