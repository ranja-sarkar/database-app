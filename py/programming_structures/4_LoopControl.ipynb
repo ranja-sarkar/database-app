{
 "cells": [
  {
   "cell_type": "markdown",
   "metadata": {},
   "source": [
    "### Loop control"
   ]
  },
  {
   "cell_type": "code",
   "execution_count": null,
   "metadata": {},
   "outputs": [],
   "source": [
    "a=[4,5,62,3,100,3,6,345,5,7,123,8]\n",
    "\n",
    "#stop at 100\n",
    "\n",
    "for x in a:\n",
    "    print(x,end = \" \")\n",
    "    if x == 100:\n",
    "        break\n",
    "        \n",
    "print (\"/nAfter Break\")\n",
    "\n",
    "for x in a:\n",
    "    if x > 99:\n",
    "        continue\n",
    "    print(x,end = \" \")\n",
    "    \n",
    "for x in a:\n",
    "    pass"
   ]
  }
 ],
 "metadata": {
  "kernelspec": {
   "display_name": "Python 3",
   "language": "python",
   "name": "python3"
  },
  "language_info": {
   "codemirror_mode": {
    "name": "ipython",
    "version": 3
   },
   "file_extension": ".py",
   "mimetype": "text/x-python",
   "name": "python",
   "nbconvert_exporter": "python",
   "pygments_lexer": "ipython3",
   "version": "3.6.5"
  }
 },
 "nbformat": 4,
 "nbformat_minor": 2
}
