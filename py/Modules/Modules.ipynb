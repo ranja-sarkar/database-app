{
 "cells": [
  {
   "cell_type": "markdown",
   "metadata": {},
   "source": [
    "### Introduction to Modules"
   ]
  },
  {
   "cell_type": "code",
   "execution_count": null,
   "metadata": {},
   "outputs": [],
   "source": [
    "import time                             #Importing time module\n",
    "\n",
    "starttime = time.time()                 #assigning 'time' function from 'time'\n",
    "\n",
    "for x in range(10000):                  #x varies from 0 to 10000\n",
    "    y = x**x                            #evaluates x^x\n",
    "endtime = time.time()                   #gives operation end time\n",
    "\n",
    "print (endtime - starttime)             #gives total time of the operation\n",
    "\n",
    "time.sleep(1)                           #program sleeps for a second\n",
    "\n",
    "from datetime import datetime\n",
    "\n",
    "d= datetime.now()\n",
    "\n",
    "print (d.year)\n",
    "print (d.month)\n",
    "print (d.second)\n",
    "\n",
    "c=datetime.today()\n",
    "print (c)"
   ]
  },
  {
   "cell_type": "markdown",
   "metadata": {},
   "source": [
    "### OS Module"
   ]
  },
  {
   "cell_type": "code",
   "execution_count": null,
   "metadata": {},
   "outputs": [],
   "source": [
    "import os                                            #module 'os' mimics os commands\n",
    "for (dirname, subdir, files) in os.walk('c:\\\\'):     #'walk' scans through given directory\n",
    "    for myfile in files:\n",
    "        filename = os.path.join(dirname, myfile)\n",
    "        if filename.endswith(\".txt\"):                #prints only txt files\n",
    "            print(filename)"
   ]
  },
  {
   "cell_type": "markdown",
   "metadata": {},
   "source": [
    "###### To get list of files greater than 5 MB"
   ]
  },
  {
   "cell_type": "code",
   "execution_count": null,
   "metadata": {},
   "outputs": [],
   "source": [
    "import os\n",
    "size = 5 * 1024 * 1024\n",
    "for (dirname, subdir, files) in os.walk(\"C:\\\\\"):   #walks through all dirs and sub-dirs and files\n",
    "    for myfile in files:\n",
    "        filename = os.path.join(dirname, myfile)   #checks if 'dirname' matches with 'myfile'\n",
    "        if os.path.getsize(filename) > size:       #checks if 'filename' size is greater than 'size'\n",
    "            print(filename)"
   ]
  },
  {
   "cell_type": "markdown",
   "metadata": {},
   "source": [
    "### Sys Module"
   ]
  },
  {
   "cell_type": "code",
   "execution_count": null,
   "metadata": {},
   "outputs": [],
   "source": [
    "import sys\n",
    "\n",
    "print('This interpreter was built for:', sys.platform)"
   ]
  },
  {
   "cell_type": "code",
   "execution_count": null,
   "metadata": {},
   "outputs": [],
   "source": [
    "import sys\n",
    "\n",
    "print('Version info:')\n",
    "print()\n",
    "print('sys.version      =',sys.version)"
   ]
  },
  {
   "cell_type": "markdown",
   "metadata": {},
   "source": [
    "### Math Module"
   ]
  },
  {
   "cell_type": "code",
   "execution_count": null,
   "metadata": {},
   "outputs": [],
   "source": [
    "import math\n",
    "b= 5\n",
    "print (\"The factorial of 5 is : \",math.factorial(b))"
   ]
  },
  {
   "cell_type": "code",
   "execution_count": null,
   "metadata": {},
   "outputs": [],
   "source": [
    "import math\n",
    "\n",
    "print math.sqrt(9.0)\n",
    "print math.sqrt(3)"
   ]
  },
  {
   "cell_type": "markdown",
   "metadata": {},
   "source": [
    "### Random Module"
   ]
  },
  {
   "cell_type": "code",
   "execution_count": null,
   "metadata": {},
   "outputs": [],
   "source": [
    "import random\n",
    "\n",
    "print (random.randint(3,100))                       #random integers from 3 to 100\n",
    "\n",
    "\n",
    "heads = [\"Theresa May\",\"Angela Merkel\",\"Sheikh Haseena\",\"Tsai Ing-wen\"]\n",
    "\n",
    "random.shuffle(heads)                               #shuffles within the list (indices change)\n",
    "print (random.choice(heads))"
   ]
  },
  {
   "cell_type": "markdown",
   "metadata": {},
   "source": [
    "### Creating custom Modules"
   ]
  },
  {
   "cell_type": "code",
   "execution_count": null,
   "metadata": {},
   "outputs": [],
   "source": [
    "import mymodule\n",
    "\n",
    "print(mymodule.name)\n",
    "print(mymodule.job)\n",
    "\n",
    "print(mymodule.add(5,6))\n",
    "\n",
    "\n",
    "print(mymodule.square(27))\n",
    "\n",
    "print(__name__)"
   ]
  }
 ],
 "metadata": {
  "kernelspec": {
   "display_name": "Python 3",
   "language": "python",
   "name": "python3"
  },
  "language_info": {
   "codemirror_mode": {
    "name": "ipython",
    "version": 3
   },
   "file_extension": ".py",
   "mimetype": "text/x-python",
   "name": "python",
   "nbconvert_exporter": "python",
   "pygments_lexer": "ipython3",
   "version": "3.6.5"
  }
 },
 "nbformat": 4,
 "nbformat_minor": 2
}
