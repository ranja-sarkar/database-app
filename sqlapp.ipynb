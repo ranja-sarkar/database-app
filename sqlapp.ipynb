{
 "cells": [
  {
   "cell_type": "code",
   "execution_count": 3,
   "metadata": {},
   "outputs": [],
   "source": [
    "import sqlite3\n",
    "\n",
    "connection = sqlite3.connect(\"mydatabase.db\")\n",
    "\n",
    "cursor = connection.cursor()\n",
    "\n",
    "sql = \"\"\"\n",
    "CREATE TABLE books(\n",
    "bid INTEGER PRIMARY KEY,\n",
    "author TEXT,\n",
    "title TEXT)\n",
    "\"\"\"\n",
    "\n",
    "\n",
    "cursor.execute(sql)\n",
    "print(\"Table created\")\n",
    "connection.close()\n",
    "\n"
   ]
  },
  {
   "cell_type": "code",
   "execution_count": 4,
   "metadata": {},
   "outputs": [
    {
     "name": "stdout",
     "output_type": "stream",
     "text": [
      "1 row(s) inserted\n"
     ]
    }
   ],
   "source": [
    "sql = \"\"\"\n",
    "INSERT INTO books\n",
    "(author,title)\n",
    "VALUES ('Kalam', 'Wings of Fire')\n",
    "\"\"\"\n",
    "\n",
    "cursor.execute(sql)\n",
    "print(\"{} row(s) inserted\".format(cursor.rowcount))\n",
    "connection.commit()\n",
    "\n",
    "connection.close()"
   ]
  },
  {
   "cell_type": "code",
   "execution_count": 7,
   "metadata": {},
   "outputs": [
    {
     "name": "stdout",
     "output_type": "stream",
     "text": [
      "Rolling back\n",
      "Closing connection\n"
     ]
    }
   ],
   "source": [
    "sql = \"\"\"\n",
    "INSERT INTO books\n",
    "(author,title)\n",
    "VALUES ('MK Gandhi', 'My experiments with truth')\n",
    "\"\"\"\n",
    "\n",
    "try:\n",
    "    cursor.execute(sql)\n",
    "except:\n",
    "    #connection.rollback()\n",
    "    print(\"Rolling back\")\n",
    "else:\n",
    "    print(\"{} row(s) inserted\".format(cursor.rowcount))\n",
    "    connection.commit()\n",
    "finally:\n",
    "    connection.close()\n",
    "    print(\"Closing connection\")"
   ]
  },
  {
   "cell_type": "code",
   "execution_count": 10,
   "metadata": {},
   "outputs": [
    {
     "name": "stdout",
     "output_type": "stream",
     "text": [
      "[(1, 'Kalam', 'Wings of Fire'), (2, 'MK Gandhi', 'My experiments with truth'), (3, 'MK Gandhi', 'My experiments with truth'), (4, 'MK Gandhi', 'My experiments with truth'), (5, 'Kalam', 'Wings of Fire')]\n"
     ]
    }
   ],
   "source": [
    "connection = sqlite3.connect(\"mydatabase.db\")\n",
    "\n",
    "cursor = connection.cursor()\n",
    "\n",
    "sql = \"\"\"\n",
    "SELECT * FROM books\n",
    "\"\"\"\n",
    "\n",
    "#for row in cursor.execute(sql):\n",
    "#    print(row)\n",
    " \n",
    "#for bid,author,title in cursor.execute(sql):\n",
    "#    print(bid,author,title)\n",
    " \n",
    "cursor.execute(sql)\n",
    "print(cursor.fetchall())\n",
    "  \n"
   ]
  },
  {
   "cell_type": "code",
   "execution_count": null,
   "metadata": {},
   "outputs": [
    {
     "name": "stdout",
     "output_type": "stream",
     "text": [
      " * Serving Flask app \"__main__\" (lazy loading)\n",
      " * Environment: production\n",
      "\u001b[31m   WARNING: This is a development server. Do not use it in a production deployment.\u001b[0m\n",
      "\u001b[2m   Use a production WSGI server instead.\u001b[0m\n",
      " * Debug mode: off\n"
     ]
    },
    {
     "name": "stderr",
     "output_type": "stream",
     "text": [
      " * Running on http://127.0.0.1:4000/ (Press CTRL+C to quit)\n",
      "127.0.0.1 - - [14/Mar/2022 16:38:20] \"\u001b[33mGET / HTTP/1.1\u001b[0m\" 404 -\n",
      "127.0.0.1 - - [14/Mar/2022 16:38:20] \"\u001b[33mGET /favicon.ico HTTP/1.1\u001b[0m\" 404 -\n",
      "127.0.0.1 - - [14/Mar/2022 16:38:29] \"\u001b[37mGET /books HTTP/1.1\u001b[0m\" 200 -\n"
     ]
    }
   ],
   "source": [
    "from flask import Flask\n",
    "\n",
    "APP = Flask(__name__)\n",
    "@APP.route(\"/books\")\n",
    "\n",
    "#from time import time, ctime\n",
    "\n",
    "#@app.route(\"/\")\n",
    "\n",
    "#@app.route(\"/Contact\")\n",
    "\n",
    "#def abcd():\n",
    "#    return \"Welcome to my contact page\"\n",
    "#def hello():\n",
    "#    return \"Hello from Flask\"\n",
    "\n",
    "#@app.route(\"/now\")\n",
    "\n",
    "#def now():\n",
    "#   return ctime(time())\n",
    "\n",
    "#app.run()\n",
    "\n",
    "def books():\n",
    "    \"\"\"This function generates the table\"\"\"\n",
    "    output = \"<table border = 1>\"\n",
    "    row = \"<tr><td>{}</td><td>{}</td></tr>\"\n",
    "    connection = sqlite3.connect(\"mydatabase.db\")\n",
    "    sql = \"SELECT * FROM books\"\n",
    "    for bid, author, title in connection.cursor().execute(sql):\n",
    "        output = output + row.format(bid,author,title)\n",
    "    connection.close()\n",
    "    return output + \"</table>\"\n",
    "\n",
    "APP.run(port = 4000)\n"
   ]
  },
  {
   "cell_type": "code",
   "execution_count": null,
   "metadata": {},
   "outputs": [],
   "source": []
  }
 ],
 "metadata": {
  "kernelspec": {
   "display_name": "Python 3",
   "language": "python",
   "name": "python3"
  },
  "toc": {
   "base_numbering": 1,
   "nav_menu": {},
   "number_sections": true,
   "sideBar": true,
   "skip_h1_title": false,
   "title_cell": "Table of Contents",
   "title_sidebar": "Contents",
   "toc_cell": false,
   "toc_position": {},
   "toc_section_display": true,
   "toc_window_display": false
  },
  "varInspector": {
   "cols": {
    "lenName": 16,
    "lenType": 16,
    "lenVar": 40
   },
   "kernels_config": {
    "python": {
     "delete_cmd_postfix": "",
     "delete_cmd_prefix": "del ",
     "library": "var_list.py",
     "varRefreshCmd": "print(var_dic_list())"
    },
    "r": {
     "delete_cmd_postfix": ") ",
     "delete_cmd_prefix": "rm(",
     "library": "var_list.r",
     "varRefreshCmd": "cat(var_dic_list()) "
    }
   },
   "types_to_exclude": [
    "module",
    "function",
    "builtin_function_or_method",
    "instance",
    "_Feature"
   ],
   "window_display": false
  }
 },
 "nbformat": 4,
 "nbformat_minor": 4
}
