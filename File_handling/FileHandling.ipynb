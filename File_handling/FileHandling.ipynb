{
 "cells": [
  {
   "cell_type": "markdown",
   "metadata": {},
   "source": [
    "### Working with Files"
   ]
  },
  {
   "cell_type": "markdown",
   "metadata": {},
   "source": [
    "###### Writing into FIle"
   ]
  },
  {
   "cell_type": "code",
   "execution_count": null,
   "metadata": {},
   "outputs": [],
   "source": [
    "f=open(\"test.txt\",\"w\")                      #Opens file in write mode\n",
    "f.write(\"this is line one\\n\")\n",
    "f.write(\"this is line two\\n\")\n",
    "f.write(\"this is line three\\n\")\n",
    "f.write(\"four\\n\")\n",
    "f.write(\"5\\n\")\n",
    "f.write(\"6\\n\")\n",
    "f.write(str(7))\n",
    "f.close()                                   #Closes opened file"
   ]
  },
  {
   "cell_type": "code",
   "execution_count": null,
   "metadata": {},
   "outputs": [],
   "source": [
    "f=open(\"test.txt\",\"a\")                      #Opens file in append mode\n",
    "f.write(\"this is line four\\n\")"
   ]
  },
  {
   "cell_type": "markdown",
   "metadata": {},
   "source": [
    "###### Read"
   ]
  },
  {
   "cell_type": "code",
   "execution_count": null,
   "metadata": {},
   "outputs": [],
   "source": [
    "f=open(\"test.txt\",\"r\")                      #read all the contents at once\n",
    "print(f.read())\n",
    "f.close()"
   ]
  },
  {
   "cell_type": "code",
   "execution_count": null,
   "metadata": {},
   "outputs": [],
   "source": [
    "f=open(\"test.txt\",\"r\")                      #read character by character\n",
    "print(f.read(1))\n",
    "print(f.read(2))\n",
    "f.close()"
   ]
  },
  {
   "cell_type": "code",
   "execution_count": null,
   "metadata": {},
   "outputs": [],
   "source": [
    "f=open(\"test.txt\",\"r\")                      #read line by line\n",
    "print(f.readline())\n",
    "print(f.readline())\n",
    "f.close()"
   ]
  },
  {
   "cell_type": "code",
   "execution_count": null,
   "metadata": {},
   "outputs": [],
   "source": [
    "f=open(\"test.txt\",\"r\")                      #read all lines into a list\n",
    "lines = f.readlines()\n",
    "print(lines[-1])\n",
    "print(lines[2])\n",
    "\n",
    "print(lines[2:5])\n",
    "f.close()"
   ]
  },
  {
   "cell_type": "code",
   "execution_count": null,
   "metadata": {},
   "outputs": [],
   "source": [
    "my_file=open(\"test.txt\",\"r\")\n",
    "mylist= my_file.readlines()\n",
    "for line in mylist:                         #printing every line using 'for' loop\n",
    "    print (line.rstrip())\n",
    "my_file.close()"
   ]
  },
  {
   "cell_type": "code",
   "execution_count": null,
   "metadata": {},
   "outputs": [],
   "source": [
    "f=open(\"test.txt\",\"r\")\n",
    "for line_no, line in enumerate(f):\n",
    "    print (line_no+1,line.rstrip())        #line_no starts from zero"
   ]
  },
  {
   "cell_type": "markdown",
   "metadata": {},
   "source": [
    "### Seeking"
   ]
  },
  {
   "cell_type": "code",
   "execution_count": null,
   "metadata": {},
   "outputs": [],
   "source": [
    "f=open(\"test.txt\",\"r+\")\n",
    "print (f.tell())        #gives the current position\n",
    "print (f.readline())    #reads a line from file\n",
    "print (f.tell())        #gives the current position\n",
    "f.seek(0,0)             #moves the file pointer to the beginning of file\n",
    "print (f.tell())        #gives the current position\n",
    "print (f.readline())    #reads a line from file\n",
    "f.close()"
   ]
  },
  {
   "cell_type": "markdown",
   "metadata": {},
   "source": [
    "### Handling CSV"
   ]
  },
  {
   "cell_type": "code",
   "execution_count": null,
   "metadata": {},
   "outputs": [],
   "source": [
    "import xlwt\n",
    "wb = xlwt.Workbook()\n",
    "ws= wb.add_sheet(\"Scientists\")\n",
    "\n",
    "f=open(\"science.csv\",\"r\")\n",
    "for row,line in enumerate(f):\n",
    "    for col,data in enumerate(line.rstrip().split(',')):\n",
    "        ws.write(row,col,data)\n",
    "wb.save(\"sciences.xls\")\n",
    "f.close()"
   ]
  },
  {
   "cell_type": "code",
   "execution_count": null,
   "metadata": {},
   "outputs": [],
   "source": [
    "import xlwt\n",
    "wb = xlwt.Workbook()\n",
    "ws1= wb.add_sheet(\"Auto\")\n",
    "\n",
    "f1=open(\"auto.csv\",\"r\")\n",
    "for row,line in enumerate(f1):\n",
    "    for col,data in enumerate(line.rstrip().split(',')):\n",
    "        ws1.write(row,col,data)\n",
    "wb.save(\"sciences.xls\")\n",
    "f1.close()"
   ]
  },
  {
   "cell_type": "code",
   "execution_count": null,
   "metadata": {},
   "outputs": [],
   "source": [
    "import xlwt\n",
    "\n",
    "wb = xlwt.Workbook()                    #creates excel workbook 'wb'\n",
    "ws = wb.add_sheet(\"Cities\")             #creates excel worksheet 'ws' in 'wb'\n",
    "\n",
    "ws.write(0,0,\"New York\")                #writes in first cell\n",
    "ws.write(0,1,\"The Big Apple\")           #first row, second column\n",
    "\n",
    "ws.write(1,0,\"Milan\")                   #second row, first column\n",
    "ws.write(1,1,\"The Fashion Capital\")     #second row, second column\n",
    "\n",
    "ws.write(2,0,\"Los Angeles\")             #third row, first column\n",
    "ws.write(2,1,\"La La Land\")              #third row, second column\n",
    "\n",
    "wb.save(\"cities.xls\")                   #saves 'wb' as 'cities.xls'"
   ]
  },
  {
   "cell_type": "markdown",
   "metadata": {},
   "source": [
    "### Handling XML"
   ]
  },
  {
   "cell_type": "code",
   "execution_count": null,
   "metadata": {},
   "outputs": [],
   "source": [
    "from xml.etree import ElementTree\n",
    "\n",
    "f=open('sample.xml','r')\n",
    "tree=ElementTree.parse(f)\n",
    "\n",
    "for node in tree.iter():\n",
    "    print (node.tag,node.attrib,node.text)\n",
    "\n",
    "print(\"_\" * 80)\t\n",
    "\n",
    "\n",
    "for node in tree.iter():\n",
    "    if node.tag == \"calories\" and node.text == \"900\":\n",
    "        print(node.tag,node.attrib,node.text)\n",
    "        #print(dir(node))\n",
    "f.close()"
   ]
  }
 ],
 "metadata": {
  "kernelspec": {
   "display_name": "Python 3",
   "language": "python",
   "name": "python3"
  },
  "language_info": {
   "codemirror_mode": {
    "name": "ipython",
    "version": 3
   },
   "file_extension": ".py",
   "mimetype": "text/x-python",
   "name": "python",
   "nbconvert_exporter": "python",
   "pygments_lexer": "ipython3",
   "version": "3.6.5"
  }
 },
 "nbformat": 4,
 "nbformat_minor": 2
}
